{
 "cells": [
  {
   "cell_type": "code",
   "execution_count": 121,
   "metadata": {
    "ExecuteTime": {
     "end_time": "2018-12-16T06:38:21.778073Z",
     "start_time": "2018-12-16T06:38:21.770021Z"
    }
   },
   "outputs": [],
   "source": [
    "rules='''#.##. => .\n",
    "#.#.. => .\n",
    "###.# => .\n",
    "..#.# => .\n",
    "....# => .\n",
    ".#### => .\n",
    "##.## => #\n",
    "###.. => #\n",
    ".###. => #\n",
    "...#. => .\n",
    "..... => .\n",
    "##..# => .\n",
    ".#.#. => #\n",
    ".#.## => #\n",
    "##.#. => .\n",
    "##... => .\n",
    "##### => #\n",
    "#...# => .\n",
    "..##. => .\n",
    "..### => .\n",
    ".#... => #\n",
    ".##.# => .\n",
    "#.... => .\n",
    ".#..# => .\n",
    ".##.. => #\n",
    "...## => #\n",
    "#.### => .\n",
    "#..#. => .\n",
    "..#.. => #\n",
    "#.#.# => #\n",
    "####. => #\n",
    "#..## => .'''\n",
    "\n",
    "pots = '''..#..####.##.####...#....#######..#.#..#..#.#.#####.######..#.#.#.#..##.###.#....####.#.#....#.#####'''\n",
    "\n",
    "test_text=\"...#..#.#..##......###...###...........\"\n",
    "test_rules='''...## => #\n",
    "..#.. => #\n",
    ".#... => #\n",
    ".#.#. => #\n",
    ".#.## => #\n",
    ".##.. => #\n",
    ".#### => #\n",
    "#.#.# => #\n",
    "#.### => #\n",
    "##.#. => #\n",
    "##.## => #\n",
    "###.. => #\n",
    "###.# => #\n",
    "####. => #'''"
   ]
  },
  {
   "cell_type": "code",
   "execution_count": 153,
   "metadata": {
    "ExecuteTime": {
     "end_time": "2018-12-16T06:49:23.142268Z",
     "start_time": "2018-12-16T06:49:23.132371Z"
    }
   },
   "outputs": [],
   "source": [
    "#get rules\n",
    "tests = []\n",
    "results = []\n",
    "for rule in test_rules.split('\\n'):\n",
    "    predicate,result = rule.split(' => ')\n",
    "    tests.append(predicate)\n",
    "    results.append(result)"
   ]
  },
  {
   "cell_type": "code",
   "execution_count": 154,
   "metadata": {
    "ExecuteTime": {
     "end_time": "2018-12-16T06:49:23.562460Z",
     "start_time": "2018-12-16T06:49:23.546399Z"
    }
   },
   "outputs": [
    {
     "name": "stdout",
     "output_type": "stream",
     "text": [
      "...##\n"
     ]
    }
   ],
   "source": [
    "print(tests[0])"
   ]
  },
  {
   "cell_type": "code",
   "execution_count": 191,
   "metadata": {
    "ExecuteTime": {
     "end_time": "2018-12-16T07:10:30.118430Z",
     "start_time": "2018-12-16T07:10:30.094864Z"
    }
   },
   "outputs": [
    {
     "name": "stdout",
     "output_type": "stream",
     "text": [
      "...#..#.#..##......###...###...........\n",
      "...#....#...##....####..####...........\n",
      "...##...##...##..##..#.....##..........\n",
      "..#....#....#...#....##...#............\n",
      "..##...##...##..##..#.....##...........\n",
      "...##...##...#...#..##...#.............\n",
      "..#....#.....##..#...##..##............\n",
      "..##...##...#....##...#...##...........\n",
      "...##...##..##..#.....##...##..........\n",
      "..#....#...#....##...#....#............\n",
      "..##...##..##..#.....##...##...........\n",
      "...##...#...#..##...#....#.............\n",
      "..#.....##..#...##..##...##............\n",
      "..##...#....##...#...##...##...........\n",
      "...##..##..#.....##...##...##..........\n",
      "..#...#....##...#....#....#............\n",
      "..##..##..#.....##...##...##...........\n",
      "...#...#..##...#....#....#.............\n",
      "...##..#...##..##...##...##............\n",
      "..#....##...#...##...##...##...........\n",
      "..##..#.....##...##...##...##..........\n"
     ]
    }
   ],
   "source": [
    "input_length = len(test_text)\n",
    "rule_length = len(tests)\n",
    "temp = list(test_text)\n",
    "for generation_num in range(21):\n",
    "    new_generation = temp\n",
    "    print(''.join(temp))\n",
    "    for input_index in range(0,input_length-2):\n",
    "        test = True\n",
    "        for index, rule in enumerate(tests):\n",
    "            if rule == ''.join(new_generation[input_index:input_index+5]):\n",
    "                temp[input_index+2]=results[index]\n",
    "                test=False\n",
    "        if test:\n",
    "            temp[input_index+2]='.'"
   ]
  },
  {
   "cell_type": "code",
   "execution_count": 156,
   "metadata": {
    "ExecuteTime": {
     "end_time": "2018-12-16T06:49:24.752609Z",
     "start_time": "2018-12-16T06:49:24.740679Z"
    }
   },
   "outputs": [
    {
     "name": "stdout",
     "output_type": "stream",
     "text": [
      "..##..#.....##...##...##...##..........\n"
     ]
    }
   ],
   "source": [
    "print(''.join(temp))"
   ]
  },
  {
   "cell_type": "code",
   "execution_count": 136,
   "metadata": {
    "ExecuteTime": {
     "end_time": "2018-12-16T06:41:20.800142Z",
     "start_time": "2018-12-16T06:41:20.790910Z"
    }
   },
   "outputs": [
    {
     "name": "stdout",
     "output_type": "stream",
     "text": [
      "2910\n"
     ]
    }
   ],
   "source": [
    "pot_sum = 0\n",
    "for pot_index, pot in enumerate(pots):\n",
    "    if pot == '#':\n",
    "        pot_sum+=pot_index+1\n",
    "print(pot_sum)"
   ]
  },
  {
   "cell_type": "code",
   "execution_count": null,
   "metadata": {},
   "outputs": [],
   "source": []
  }
 ],
 "metadata": {
  "kernelspec": {
   "display_name": "Python 3",
   "language": "python",
   "name": "python3"
  },
  "language_info": {
   "codemirror_mode": {
    "name": "ipython",
    "version": 3
   },
   "file_extension": ".py",
   "mimetype": "text/x-python",
   "name": "python",
   "nbconvert_exporter": "python",
   "pygments_lexer": "ipython3",
   "version": "3.7.0"
  }
 },
 "nbformat": 4,
 "nbformat_minor": 2
}
