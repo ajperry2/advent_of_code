{
 "cells": [
  {
   "cell_type": "code",
   "execution_count": 24,
   "metadata": {
    "ExecuteTime": {
     "end_time": "2018-12-08T20:53:38.442641Z",
     "start_time": "2018-12-08T20:53:38.438817Z"
    }
   },
   "outputs": [],
   "source": [
    "text = '''336, 308\n",
    "262, 98\n",
    "352, 115\n",
    "225, 205\n",
    "292, 185\n",
    "166, 271\n",
    "251, 67\n",
    "266, 274\n",
    "326, 85\n",
    "191, 256\n",
    "62, 171\n",
    "333, 123\n",
    "160, 131\n",
    "211, 214\n",
    "287, 333\n",
    "231, 288\n",
    "237, 183\n",
    "211, 272\n",
    "116, 153\n",
    "336, 70\n",
    "291, 117\n",
    "156, 105\n",
    "261, 119\n",
    "216, 171\n",
    "59, 343\n",
    "50, 180\n",
    "251, 268\n",
    "169, 258\n",
    "75, 136\n",
    "305, 102\n",
    "154, 327\n",
    "187, 297\n",
    "270, 225\n",
    "190, 185\n",
    "339, 264\n",
    "103, 301\n",
    "90, 92\n",
    "164, 144\n",
    "108, 140\n",
    "189, 211\n",
    "125, 157\n",
    "77, 226\n",
    "177, 168\n",
    "46, 188\n",
    "216, 244\n",
    "346, 348\n",
    "272, 90\n",
    "140, 176\n",
    "109, 324\n",
    "128, 132'''\n",
    "\n",
    "test = '''1, 1\n",
    "1, 6\n",
    "8, 3\n",
    "3, 4\n",
    "5, 5\n",
    "8, 9'''\n",
    "\n",
    "max_dist = 10000"
   ]
  },
  {
   "cell_type": "code",
   "execution_count": 31,
   "metadata": {
    "ExecuteTime": {
     "end_time": "2018-12-08T20:59:17.794054Z",
     "start_time": "2018-12-08T20:59:17.789784Z"
    }
   },
   "outputs": [],
   "source": [
    "#get corrdinates\n",
    "corrdinates = []\n",
    "for line in text.split('\\n'):\n",
    "    x,y = int(line.split(',')[0].strip()),int(line.split(',')[1].strip())\n",
    "    corrdinates.append((x,y))\n",
    "    "
   ]
  },
  {
   "cell_type": "code",
   "execution_count": 32,
   "metadata": {
    "ExecuteTime": {
     "end_time": "2018-12-08T20:59:18.611788Z",
     "start_time": "2018-12-08T20:59:18.365676Z"
    }
   },
   "outputs": [],
   "source": [
    "#define grid\n",
    "grid = [[0 for _ in range(-1000,1000,1)] for _ in range(-1000,1000,1)]\n"
   ]
  },
  {
   "cell_type": "code",
   "execution_count": 33,
   "metadata": {
    "ExecuteTime": {
     "end_time": "2018-12-08T21:01:10.725275Z",
     "start_time": "2018-12-08T20:59:18.855808Z"
    }
   },
   "outputs": [],
   "source": [
    "for y,y_list in enumerate(grid):\n",
    "    for x in range(len(y_list)):\n",
    "        #calculate distance with cordinates, and find the minimum\n",
    "        total_dist=0\n",
    "        for cordinate in corrdinates:\n",
    "            x_diff = abs(x-1000 - cordinate[0])\n",
    "            y_diff = abs(y-1000 - cordinate[1])\n",
    "            total_dist+=x_diff\n",
    "            total_dist+=y_diff\n",
    "            \n",
    "\n",
    "        grid[y][x] = total_dist\n",
    "        "
   ]
  },
  {
   "cell_type": "code",
   "execution_count": 34,
   "metadata": {
    "ExecuteTime": {
     "end_time": "2018-12-08T21:01:15.258620Z",
     "start_time": "2018-12-08T21:01:14.698564Z"
    }
   },
   "outputs": [
    {
     "name": "stdout",
     "output_type": "stream",
     "text": [
      "49327\n"
     ]
    }
   ],
   "source": [
    "num_close = 0\n",
    "for y,y_list in enumerate(grid):\n",
    "    for x in range(len(y_list)):\n",
    "        if grid[y][x] < max_dist:\n",
    "            num_close+=1\n",
    "print(num_close)"
   ]
  },
  {
   "cell_type": "code",
   "execution_count": null,
   "metadata": {},
   "outputs": [],
   "source": []
  }
 ],
 "metadata": {
  "kernelspec": {
   "display_name": "Python 3",
   "language": "python",
   "name": "python3"
  },
  "language_info": {
   "codemirror_mode": {
    "name": "ipython",
    "version": 3
   },
   "file_extension": ".py",
   "mimetype": "text/x-python",
   "name": "python",
   "nbconvert_exporter": "python",
   "pygments_lexer": "ipython3",
   "version": "3.7.0"
  }
 },
 "nbformat": 4,
 "nbformat_minor": 2
}
