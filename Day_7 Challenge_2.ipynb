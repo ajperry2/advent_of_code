{
 "cells": [
  {
   "cell_type": "code",
   "execution_count": 31,
   "metadata": {
    "ExecuteTime": {
     "end_time": "2018-12-11T22:05:50.582562Z",
     "start_time": "2018-12-11T22:05:50.575941Z"
    }
   },
   "outputs": [],
   "source": [
    "text = '''Step W must be finished before step G can begin.\n",
    "Step N must be finished before step X can begin.\n",
    "Step M must be finished before step O can begin.\n",
    "Step S must be finished before step I can begin.\n",
    "Step F must be finished before step Y can begin.\n",
    "Step Q must be finished before step K can begin.\n",
    "Step K must be finished before step Y can begin.\n",
    "Step Z must be finished before step J can begin.\n",
    "Step G must be finished before step L can begin.\n",
    "Step J must be finished before step C can begin.\n",
    "Step R must be finished before step E can begin.\n",
    "Step X must be finished before step I can begin.\n",
    "Step P must be finished before step E can begin.\n",
    "Step V must be finished before step Y can begin.\n",
    "Step C must be finished before step I can begin.\n",
    "Step O must be finished before step H can begin.\n",
    "Step T must be finished before step B can begin.\n",
    "Step Y must be finished before step A can begin.\n",
    "Step E must be finished before step L can begin.\n",
    "Step B must be finished before step D can begin.\n",
    "Step L must be finished before step U can begin.\n",
    "Step A must be finished before step I can begin.\n",
    "Step I must be finished before step D can begin.\n",
    "Step H must be finished before step D can begin.\n",
    "Step U must be finished before step D can begin.\n",
    "Step B must be finished before step I can begin.\n",
    "Step S must be finished before step F can begin.\n",
    "Step M must be finished before step R can begin.\n",
    "Step A must be finished before step H can begin.\n",
    "Step Z must be finished before step O can begin.\n",
    "Step K must be finished before step I can begin.\n",
    "Step K must be finished before step D can begin.\n",
    "Step B must be finished before step A can begin.\n",
    "Step G must be finished before step I can begin.\n",
    "Step Z must be finished before step B can begin.\n",
    "Step R must be finished before step P can begin.\n",
    "Step J must be finished before step E can begin.\n",
    "Step R must be finished before step I can begin.\n",
    "Step Q must be finished before step U can begin.\n",
    "Step S must be finished before step Z can begin.\n",
    "Step E must be finished before step I can begin.\n",
    "Step F must be finished before step E can begin.\n",
    "Step F must be finished before step I can begin.\n",
    "Step S must be finished before step J can begin.\n",
    "Step O must be finished before step I can begin.\n",
    "Step V must be finished before step B can begin.\n",
    "Step A must be finished before step U can begin.\n",
    "Step M must be finished before step T can begin.\n",
    "Step K must be finished before step A can begin.\n",
    "Step L must be finished before step I can begin.\n",
    "Step I must be finished before step U can begin.\n",
    "Step G must be finished before step U can begin.\n",
    "Step B must be finished before step U can begin.\n",
    "Step E must be finished before step D can begin.\n",
    "Step J must be finished before step T can begin.\n",
    "Step M must be finished before step Y can begin.\n",
    "Step P must be finished before step B can begin.\n",
    "Step M must be finished before step S can begin.\n",
    "Step E must be finished before step U can begin.\n",
    "Step R must be finished before step Y can begin.\n",
    "Step J must be finished before step I can begin.\n",
    "Step J must be finished before step D can begin.\n",
    "Step Y must be finished before step E can begin.\n",
    "Step A must be finished before step D can begin.\n",
    "Step X must be finished before step H can begin.\n",
    "Step O must be finished before step E can begin.\n",
    "Step E must be finished before step B can begin.\n",
    "Step E must be finished before step A can begin.\n",
    "Step F must be finished before step U can begin.\n",
    "Step G must be finished before step J can begin.\n",
    "Step M must be finished before step Z can begin.\n",
    "Step Y must be finished before step U can begin.\n",
    "Step Y must be finished before step D can begin.\n",
    "Step S must be finished before step D can begin.\n",
    "Step G must be finished before step H can begin.\n",
    "Step C must be finished before step Y can begin.\n",
    "Step B must be finished before step H can begin.\n",
    "Step P must be finished before step V can begin.\n",
    "Step M must be finished before step K can begin.\n",
    "Step L must be finished before step A can begin.\n",
    "Step G must be finished before step A can begin.\n",
    "Step Q must be finished before step P can begin.\n",
    "Step P must be finished before step I can begin.\n",
    "Step H must be finished before step U can begin.\n",
    "Step G must be finished before step X can begin.\n",
    "Step L must be finished before step H can begin.\n",
    "Step X must be finished before step P can begin.\n",
    "Step Z must be finished before step Y can begin.\n",
    "Step N must be finished before step K can begin.\n",
    "Step Q must be finished before step X can begin.\n",
    "Step X must be finished before step L can begin.\n",
    "Step T must be finished before step Y can begin.\n",
    "Step P must be finished before step A can begin.\n",
    "Step C must be finished before step T can begin.\n",
    "Step J must be finished before step V can begin.\n",
    "Step X must be finished before step O can begin.\n",
    "Step S must be finished before step C can begin.\n",
    "Step R must be finished before step C can begin.\n",
    "Step E must be finished before step H can begin.\n",
    "Step V must be finished before step H can begin.\n",
    "Step L must be finished before step D can begin.'''\n",
    "\n",
    "test='''Step C must be finished before step A can begin.\n",
    "Step C must be finished before step F can begin.\n",
    "Step A must be finished before step B can begin.\n",
    "Step A must be finished before step D can begin.\n",
    "Step B must be finished before step E can begin.\n",
    "Step D must be finished before step E can begin.\n",
    "Step F must be finished before step E can begin.'''"
   ]
  },
  {
   "cell_type": "code",
   "execution_count": 79,
   "metadata": {
    "ExecuteTime": {
     "end_time": "2018-12-12T00:00:34.507532Z",
     "start_time": "2018-12-12T00:00:34.502759Z"
    }
   },
   "outputs": [],
   "source": [
    "#getletters seperated by ~ to split sets of optional steps\n",
    "lines = text.split('\\n')\n",
    "letters = [line.split()[1] for line in lines]\n",
    "afters = [line.split()[7] for line in lines]"
   ]
  },
  {
   "cell_type": "code",
   "execution_count": 80,
   "metadata": {
    "ExecuteTime": {
     "end_time": "2018-12-12T00:00:35.246530Z",
     "start_time": "2018-12-12T00:00:35.241695Z"
    }
   },
   "outputs": [
    {
     "name": "stdout",
     "output_type": "stream",
     "text": [
      "['W', 'N', 'M', 'S', 'F', 'Q', 'K', 'Z', 'G', 'J', 'R', 'X', 'P', 'V', 'C', 'O', 'T', 'Y', 'E', 'B', 'L', 'A', 'I', 'H', 'U', 'B', 'S', 'M', 'A', 'Z', 'K', 'K', 'B', 'G', 'Z', 'R', 'J', 'R', 'Q', 'S', 'E', 'F', 'F', 'S', 'O', 'V', 'A', 'M', 'K', 'L', 'I', 'G', 'B', 'E', 'J', 'M', 'P', 'M', 'E', 'R', 'J', 'J', 'Y', 'A', 'X', 'O', 'E', 'E', 'F', 'G', 'M', 'Y', 'Y', 'S', 'G', 'C', 'B', 'P', 'M', 'L', 'G', 'Q', 'P', 'H', 'G', 'L', 'X', 'Z', 'N', 'Q', 'X', 'T', 'P', 'C', 'J', 'X', 'S', 'R', 'E', 'V', 'L']\n"
     ]
    }
   ],
   "source": [
    "print(letters)"
   ]
  },
  {
   "cell_type": "code",
   "execution_count": 81,
   "metadata": {
    "ExecuteTime": {
     "end_time": "2018-12-12T00:00:36.129734Z",
     "start_time": "2018-12-12T00:00:36.118209Z"
    }
   },
   "outputs": [
    {
     "name": "stdout",
     "output_type": "stream",
     "text": [
      "{'D'}\n"
     ]
    }
   ],
   "source": [
    "#find_last_letter\n",
    "first = set(letters)-set(afters)\n",
    "\n",
    "last = set(afters)-set(letters)\n",
    "print(last)"
   ]
  },
  {
   "cell_type": "code",
   "execution_count": 82,
   "metadata": {
    "ExecuteTime": {
     "end_time": "2018-12-12T00:00:36.973839Z",
     "start_time": "2018-12-12T00:00:36.940882Z"
    },
    "scrolled": true
   },
   "outputs": [
    {
     "name": "stdout",
     "output_type": "stream",
     "text": [
      "MNQKRSFWGXPZJCOTVYEBLAHIUD\n"
     ]
    }
   ],
   "source": [
    "#get precursors of an after\n",
    "def get_precursors(after):\n",
    "    precursors = []\n",
    "    for index,a in enumerate(afters):\n",
    "        if after == a:\n",
    "            precursors.append(letters[index])\n",
    "    return(precursors)\n",
    "def get_next(letter):\n",
    "    nexts = []\n",
    "    for i, x in enumerate(letters):\n",
    "        if letter==x:\n",
    "            nexts.append(afters[i])\n",
    "    return(nexts)\n",
    "from collections import OrderedDict\n",
    "current_string = []\n",
    "def find_pastors(current_priors,letters,check_num = 0):\n",
    "    def find_next(unset,x):\n",
    "        current_prior = ''.join(sorted(list(unset)))[x]\n",
    "        return(current_prior)\n",
    "    current_prior = find_next(current_priors,check_num)\n",
    "    current_priors = current_priors - {current_prior}\n",
    "    for index,letter in enumerate(letters):\n",
    "        if letter == current_prior:\n",
    "            #test if all precursors, or start over\n",
    "            ready = True\n",
    "            for precursor in get_precursors(current_prior):\n",
    "                if precursor not in current_string:\n",
    "                    ready = False\n",
    "                \n",
    "            if ready:\n",
    "                current_priors.add(afters[index])\n",
    "                current_string.insert(len(current_string)-1,current_prior)\n",
    "                #current_string.insert(len(current_string)-1,'~')\n",
    "          \n",
    "    \n",
    "\n",
    "                \n",
    "\n",
    "    if current_priors == set():\n",
    "        return\n",
    "    \n",
    "    find_pastors(current_priors,letters)\n",
    "    \n",
    "find_pastors(first,letters)\n",
    "indeces = []\n",
    "for index, letter in enumerate(current_string):\n",
    "    if letter in current_string[:index] and letter != '~':\n",
    "        #remove potential match\n",
    "        indeces.append(index)\n",
    "t=0\n",
    "for index in indeces:\n",
    "    current_string = current_string[:index-t]+current_string[index+1-t:]\n",
    "    t=t+1\n",
    "current_string = ''.join(current_string)+str(last)[2]\n",
    "\n",
    "print(current_string)"
   ]
  },
  {
   "cell_type": "code",
   "execution_count": 84,
   "metadata": {
    "ExecuteTime": {
     "end_time": "2018-12-12T00:00:46.538650Z",
     "start_time": "2018-12-12T00:00:46.528823Z"
    }
   },
   "outputs": [
    {
     "name": "stdout",
     "output_type": "stream",
     "text": [
      "{'Y', 'T', 'I'}\n",
      "{'Y', 'U', 'E', 'A', 'B', 'D'}\n",
      "{'E', 'H', 'L', 'B', 'U', 'A', 'I', 'D'}\n",
      "{'H', 'L', 'B', 'U', 'A', 'I', 'D'}\n",
      "{'H', 'U', 'A', 'I', 'D'}\n",
      "{'U', 'H', 'I', 'D'}\n",
      "{'U', 'D'}\n",
      "{'D'}\n",
      "[1, 7, 3, 6, 8, 7, 5, 4, 2, 1]\n"
     ]
    }
   ],
   "source": [
    "\n",
    "#length of steps\n",
    "\n",
    "length_of_steps = [1]\n",
    "curr_idx = 0\n",
    "curr_letters = get_next(current_string[0])\n",
    "length_of_steps.append(len(curr_letters))\n",
    "curr_idx += len(curr_letters)\n",
    "current_next = set('C')\n",
    "while True:\n",
    "    future = set()\n",
    "    for curr_letter in current_next:\n",
    "        future.update(set(get_next(curr_letter)))\n",
    "    if len(future)==0:\n",
    "        break\n",
    "    length_of_steps.append(len(set(future)))\n",
    "    curr_idx += len(future)\n",
    "    current_next=future\n",
    "    print(future)\n",
    "print(length_of_steps)"
   ]
  },
  {
   "cell_type": "code",
   "execution_count": 86,
   "metadata": {
    "ExecuteTime": {
     "end_time": "2018-12-12T00:01:15.079606Z",
     "start_time": "2018-12-12T00:01:14.870911Z"
    }
   },
   "outputs": [
    {
     "name": "stdout",
     "output_type": "stream",
     "text": [
      "[73, 74, 77, 71, 78, 79, 66, 83, 67, 84, 76, 86, 70, 63, 75, 80, 82, 85, 65, 62, 72, 61, 68, 69, 81, 64]\n",
      "['M']\n",
      "['M', 'N']\n",
      "['M', 'N', 'Q']\n",
      "['M', 'N', 'Q', 'W']\n",
      "['M', 'N', 'Q', 'W', 'K']\n",
      "['M', 'N', 'Q', 'W', 'K', 'G']\n",
      "['M', 'N', 'Q', 'W', 'K', 'G', 'R']\n",
      "['M', 'N', 'Q', 'W', 'K', 'G', 'R', 'S']\n",
      "['M', 'N', 'Q', 'W', 'K', 'G', 'R', 'S', 'F']\n",
      "['M', 'N', 'Q', 'W', 'K', 'G', 'R', 'S', 'F', 'X']\n",
      "['M', 'N', 'Q', 'W', 'K', 'G', 'R', 'S', 'F', 'X', 'Z']\n",
      "['M', 'N', 'Q', 'W', 'K', 'G', 'R', 'S', 'F', 'X', 'Z', 'J']\n",
      "['M', 'N', 'Q', 'W', 'K', 'G', 'R', 'S', 'F', 'X', 'Z', 'J', 'P']\n",
      "['M', 'N', 'Q', 'W', 'K', 'G', 'R', 'S', 'F', 'X', 'Z', 'J', 'P', 'O']\n",
      "['M', 'N', 'Q', 'W', 'K', 'G', 'R', 'S', 'F', 'X', 'Z', 'J', 'P', 'O', 'C']\n",
      "['M', 'N', 'Q', 'W', 'K', 'G', 'R', 'S', 'F', 'X', 'Z', 'J', 'P', 'O', 'C', 'V']\n",
      "['M', 'N', 'Q', 'W', 'K', 'G', 'R', 'S', 'F', 'X', 'Z', 'J', 'P', 'O', 'C', 'V', 'T']\n",
      "['M', 'N', 'Q', 'W', 'K', 'G', 'R', 'S', 'F', 'X', 'Z', 'J', 'P', 'O', 'C', 'V', 'T', 'Y']\n",
      "['M', 'N', 'Q', 'W', 'K', 'G', 'R', 'S', 'F', 'X', 'Z', 'J', 'P', 'O', 'C', 'V', 'T', 'Y', 'E']\n",
      "['M', 'N', 'Q', 'W', 'K', 'G', 'R', 'S', 'F', 'X', 'Z', 'J', 'P', 'O', 'C', 'V', 'T', 'Y', 'E', 'B']\n",
      "['M', 'N', 'Q', 'W', 'K', 'G', 'R', 'S', 'F', 'X', 'Z', 'J', 'P', 'O', 'C', 'V', 'T', 'Y', 'E', 'B', 'L']\n",
      "['M', 'N', 'Q', 'W', 'K', 'G', 'R', 'S', 'F', 'X', 'Z', 'J', 'P', 'O', 'C', 'V', 'T', 'Y', 'E', 'B', 'L', 'A']\n",
      "['M', 'N', 'Q', 'W', 'K', 'G', 'R', 'S', 'F', 'X', 'Z', 'J', 'P', 'O', 'C', 'V', 'T', 'Y', 'E', 'B', 'L', 'A', 'H']\n",
      "['M', 'N', 'Q', 'W', 'K', 'G', 'R', 'S', 'F', 'X', 'Z', 'J', 'P', 'O', 'C', 'V', 'T', 'Y', 'E', 'B', 'L', 'A', 'H', 'I']\n",
      "['M', 'N', 'Q', 'W', 'K', 'G', 'R', 'S', 'F', 'X', 'Z', 'J', 'P', 'O', 'C', 'V', 'T', 'Y', 'E', 'B', 'L', 'A', 'H', 'I', 'U']\n",
      "['M', 'N', 'Q', 'W', 'K', 'G', 'R', 'S', 'F', 'X', 'Z', 'J', 'P', 'O', 'C', 'V', 'T', 'Y', 'E', 'B', 'L', 'A', 'H', 'I', 'U', 'D']\n",
      "948\n"
     ]
    }
   ],
   "source": [
    "import numpy as np\n",
    "values = [60 for x in current_string]\n",
    "for i,letter in enumerate(current_string):\n",
    "    values[i] += ord(letter)-ord('A')+1\n",
    "print(values)\n",
    "worker_dict = {}\n",
    "num_workers=5\n",
    "total_seconds = 0\n",
    "done = []\n",
    "while True:\n",
    "    #print(worker_dict)\n",
    "\n",
    "    #get current letters\n",
    "    curr_letters = []\n",
    "    for index, letter in enumerate(current_string):\n",
    "        ready = True\n",
    "        for precursor in get_precursors(letter):\n",
    "            if precursor not in done:\n",
    "                ready = False\n",
    "        #print(ready)\n",
    "        if ready and letter not in done:\n",
    "            curr_letters.append(letter)\n",
    "    sorted_letters = sorted(curr_letters)\n",
    "    for index, letter in enumerate(current_string):\n",
    "        for letter_2 in sorted_letters:\n",
    "            if letter == letter_2:\n",
    "                if len(worker_dict.keys()) < num_workers:\n",
    "                    if letter not in worker_dict.keys():\n",
    "                        worker_dict[letter] = values[index]\n",
    "    #remove worker if time is zero\n",
    "    worker_dict = { key:val-1 for key, val in worker_dict.items()}\n",
    "    total_seconds+=1\n",
    "    for key,val in worker_dict.items():\n",
    "        if val == 0:\n",
    "            done.append(key)\n",
    "            #print(done)\n",
    "    worker_dict = { key:val for key, val in worker_dict.items() if val }\n",
    "    if len(done)==len(current_string):\n",
    "        break\n",
    "        \n",
    "print(total_seconds)\n",
    "    "
   ]
  },
  {
   "cell_type": "code",
   "execution_count": 45,
   "metadata": {
    "ExecuteTime": {
     "end_time": "2018-12-11T22:25:02.710032Z",
     "start_time": "2018-12-11T22:25:02.698810Z"
    }
   },
   "outputs": [
    {
     "data": {
      "text/plain": [
       "['A', 'F']"
      ]
     },
     "execution_count": 45,
     "metadata": {},
     "output_type": "execute_result"
    }
   ],
   "source": [
    "get_next('C')"
   ]
  },
  {
   "cell_type": "code",
   "execution_count": null,
   "metadata": {
    "ExecuteTime": {
     "end_time": "2018-12-10T03:06:29.799545Z",
     "start_time": "2018-12-10T03:06:23.154Z"
    }
   },
   "outputs": [],
   "source": [
    "\n",
    "print(values)"
   ]
  },
  {
   "cell_type": "code",
   "execution_count": null,
   "metadata": {
    "ExecuteTime": {
     "end_time": "2018-12-10T02:21:58.242213Z",
     "start_time": "2018-12-10T02:21:58.203891Z"
    }
   },
   "outputs": [],
   "source": []
  },
  {
   "cell_type": "code",
   "execution_count": null,
   "metadata": {
    "ExecuteTime": {
     "end_time": "2018-12-10T02:25:18.250773Z",
     "start_time": "2018-12-10T02:25:18.227868Z"
    }
   },
   "outputs": [],
   "source": []
  },
  {
   "cell_type": "code",
   "execution_count": null,
   "metadata": {},
   "outputs": [],
   "source": []
  }
 ],
 "metadata": {
  "kernelspec": {
   "display_name": "Python 3",
   "language": "python",
   "name": "python3"
  },
  "language_info": {
   "codemirror_mode": {
    "name": "ipython",
    "version": 3
   },
   "file_extension": ".py",
   "mimetype": "text/x-python",
   "name": "python",
   "nbconvert_exporter": "python",
   "pygments_lexer": "ipython3",
   "version": "3.7.0"
  }
 },
 "nbformat": 4,
 "nbformat_minor": 2
}
