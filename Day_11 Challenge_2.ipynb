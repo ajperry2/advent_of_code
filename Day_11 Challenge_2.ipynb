{
 "cells": [
  {
   "cell_type": "code",
   "execution_count": 15,
   "metadata": {
    "ExecuteTime": {
     "end_time": "2018-12-15T19:34:06.146315Z",
     "start_time": "2018-12-15T19:34:06.142571Z"
    }
   },
   "outputs": [],
   "source": [
    "fuel_cell_grid = [[0]*300 for _ in range(300)]\n",
    "serial_number = 1955\n",
    "#serial_number = 57\n",
    "#serial_number = 39\n",
    "#serial_number = 71\n"
   ]
  },
  {
   "cell_type": "code",
   "execution_count": 16,
   "metadata": {
    "ExecuteTime": {
     "end_time": "2018-12-15T19:34:06.761614Z",
     "start_time": "2018-12-15T19:34:06.582559Z"
    }
   },
   "outputs": [],
   "source": [
    "#fill grid\n",
    "for y_index, y in enumerate(fuel_cell_grid):\n",
    "    for x_index, x in enumerate(y):\n",
    "        rack_ID = x_index+1 + 10\n",
    "        power_level_start = rack_ID * (y_index+1)\n",
    "        result = power_level_start + serial_number\n",
    "        power_level = result * rack_ID\n",
    "\n",
    "        if len(str(int(power_level))) >= 3:\n",
    "\n",
    "            hundreds_place = int(str(int(power_level))[-3])\n",
    "            power_level = hundreds_place - 5\n",
    "        else:\n",
    "            power_level = 0\n",
    "\n",
    "        fuel_cell_grid[x_index][y_index] = power_level"
   ]
  },
  {
   "cell_type": "code",
   "execution_count": 17,
   "metadata": {
    "ExecuteTime": {
     "end_time": "2018-12-15T19:34:07.068771Z",
     "start_time": "2018-12-15T19:34:07.060105Z"
    }
   },
   "outputs": [
    {
     "data": {
      "text/plain": [
       "0"
      ]
     },
     "execution_count": 17,
     "metadata": {},
     "output_type": "execute_result"
    }
   ],
   "source": [
    "fuel_cell_grid[122-1][79-1]\n",
    "#fuel_cell_grid[217-1][196-1]\n",
    "#fuel_cell_grid[153-1][101-1]"
   ]
  },
  {
   "cell_type": "code",
   "execution_count": 18,
   "metadata": {
    "ExecuteTime": {
     "end_time": "2018-12-15T19:34:07.808681Z",
     "start_time": "2018-12-15T19:34:07.571937Z"
    }
   },
   "outputs": [
    {
     "name": "stdout",
     "output_type": "stream",
     "text": [
      "300\n",
      "298\n"
     ]
    }
   ],
   "source": [
    "#find largest sum of 3x3 square\n",
    "sum_grid = [[0]*298 for _ in range(298)]\n",
    "print(len(fuel_cell_grid))\n",
    "\n",
    "print(len(sum_grid[0]))\n",
    "for y in range(298):\n",
    "    for x in range(298):\n",
    "        sum_grid[x][y] = sum([sum(_) for _ in [tmp[x:x+3] for tmp in fuel_cell_grid[y:y+3]]])"
   ]
  },
  {
   "cell_type": "code",
   "execution_count": 19,
   "metadata": {
    "ExecuteTime": {
     "end_time": "2018-12-15T23:24:51.652746Z",
     "start_time": "2018-12-15T19:34:17.640938Z"
    }
   },
   "outputs": [
    {
     "name": "stdout",
     "output_type": "stream",
     "text": [
      "X:231\n",
      "Y:108\n",
      "Size:14\n",
      "-10\n"
     ]
    }
   ],
   "source": [
    "most_x,most_y,most_size = 0,0,0\n",
    "most = 0\n",
    "for size in range(1,300):\n",
    "    for x in range(300-size+1):\n",
    "        for y in range(300-size+1):\n",
    "            current = sum([sum(_) for _ in [tmp[x:x+size] for tmp in fuel_cell_grid[y:y+size]]])\n",
    "            if current > most:  \n",
    "                most=current\n",
    "                most_x,most_y,most_size = y,x,size\n",
    "                \n",
    "print('X:'+str(most_x+1))\n",
    "print('Y:'+str(most_y+1))\n",
    "print('Size:'+str(most_size))\n",
    "\n",
    "print(sum_grid[most_y][most_x])"
   ]
  },
  {
   "cell_type": "code",
   "execution_count": 20,
   "metadata": {
    "ExecuteTime": {
     "end_time": "2018-12-16T00:16:11.611806Z",
     "start_time": "2018-12-16T00:16:11.607426Z"
    }
   },
   "outputs": [
    {
     "name": "stdout",
     "output_type": "stream",
     "text": [
      "171\n"
     ]
    }
   ],
   "source": [
    "print(most)"
   ]
  },
  {
   "cell_type": "code",
   "execution_count": null,
   "metadata": {},
   "outputs": [],
   "source": []
  }
 ],
 "metadata": {
  "kernelspec": {
   "display_name": "Python 3",
   "language": "python",
   "name": "python3"
  },
  "language_info": {
   "codemirror_mode": {
    "name": "ipython",
    "version": 3
   },
   "file_extension": ".py",
   "mimetype": "text/x-python",
   "name": "python",
   "nbconvert_exporter": "python",
   "pygments_lexer": "ipython3",
   "version": "3.7.0"
  }
 },
 "nbformat": 4,
 "nbformat_minor": 2
}
